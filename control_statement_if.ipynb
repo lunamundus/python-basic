{
 "cells": [
  {
   "attachments": {},
   "cell_type": "markdown",
   "metadata": {},
   "source": [
    "# if문의 기본 구조  \n",
    "\n",
    "if문의 기본은 if와 else로 이루어져 있다.  \n",
    "\n",
    "조건문을 테스트한 후, True면 if문 바로 다음 문장(if 블록)을 수행하고, False면 else문 바로 다음 문장(else 블록)을 수행한다.  \n",
    "\n",
    "if문에서 if는 단독으로 사용될 수 있지만, else는 단독으로 사용될 수 없다."
   ]
  },
  {
   "cell_type": "code",
   "execution_count": 2,
   "metadata": {},
   "outputs": [
    {
     "name": "stdout",
     "output_type": "stream",
     "text": [
      "a가 b보다 크지 않습니다.\n"
     ]
    }
   ],
   "source": [
    "a = 1\n",
    "b = 3\n",
    "\n",
    "if a > b:\n",
    "    print(\"a가 b보다 큽니다.\")\n",
    "else:\n",
    "    print(\"a가 b보다 크지 않습니다.\")\n",
    "\n",
    "# 기본 구조\n",
    "# if 조건문:\n",
    "#     수행할 문장 1\n",
    "#     수행할 문장 2\n",
    "#     ...\n",
    "# else:\n",
    "#     수행할 문장 1\n",
    "#     수행할 문장 2\n",
    "#     ..."
   ]
  },
  {
   "cell_type": "code",
   "execution_count": 3,
   "metadata": {},
   "outputs": [
    {
     "name": "stdout",
     "output_type": "stream",
     "text": [
      "a가 b보다 큽니다.\n",
      "if문 다음 실행\n"
     ]
    }
   ],
   "source": [
    "a = 3\n",
    "b = 1\n",
    "\n",
    "if a > b:\n",
    "    print(\"a가 b보다 큽니다.\")\n",
    "\n",
    "print(\"if문 다음 실행\")"
   ]
  },
  {
   "cell_type": "code",
   "execution_count": 1,
   "metadata": {},
   "outputs": [
    {
     "name": "stdout",
     "output_type": "stream",
     "text": [
      "if문 다음 실행\n"
     ]
    }
   ],
   "source": [
    "a = 1\n",
    "b = 3\n",
    "\n",
    "if a > b:\n",
    "    print(\"a가 b보다 큽니다.\")\n",
    "\n",
    "print(\"if문 다음 실행\")"
   ]
  },
  {
   "cell_type": "code",
   "execution_count": 4,
   "metadata": {},
   "outputs": [
    {
     "ename": "SyntaxError",
     "evalue": "invalid syntax (3532166167.py, line 4)",
     "output_type": "error",
     "traceback": [
      "\u001b[1;36m  Cell \u001b[1;32mIn[4], line 4\u001b[1;36m\u001b[0m\n\u001b[1;33m    else:\u001b[0m\n\u001b[1;37m    ^\u001b[0m\n\u001b[1;31mSyntaxError\u001b[0m\u001b[1;31m:\u001b[0m invalid syntax\n"
     ]
    }
   ],
   "source": [
    "a = 1\n",
    "b = 3\n",
    "\n",
    "else:\n",
    "    print(\"a가 b보다 큽니다.\")\n",
    "\n",
    "print(\"if문 다음 실행\")"
   ]
  },
  {
   "attachments": {},
   "cell_type": "markdown",
   "metadata": {},
   "source": [
    "## 들여쓰기 (Indentation)\n",
    "\n",
    "파이썬에서 들여쓰기는 중요한 요소이다. 같은 들여쓰기를 가지고 있는 문장들은 하나의 블록으로 여겨지기 때문이다.  \n",
    "\n",
    "if문에서도 if 조건문: 다음으로 쓰이는 모든 문장은 들여쓰기가 필수이다. 만약 들여쓰기가 되어있지 않는다면, 이는 if 조건문: 블록 안에 들어있는 것이 아닌 문장으로 취급된다.  \n",
    "\n",
    "또한, 들여쓰기가 잘못된 경우엔 에러를 발생하기도 한다.  \n",
    "\n",
    "다른 프로그래밍 언어에서는 하나의 블록은 중괄호 등을 사용해서 묶어주는 경우가 많다.  \n",
    "\n",
    "그렇기 때문에 다른 프로그래밍 언어를 공부해본 사람들은 들여쓰기를 꼭 맞춰야 한다는 점이 어색할 수도 있어서 주의가 필요하다."
   ]
  },
  {
   "cell_type": "code",
   "execution_count": 5,
   "metadata": {},
   "outputs": [
    {
     "name": "stdout",
     "output_type": "stream",
     "text": [
      "a가 b보다 큽니다.\n"
     ]
    }
   ],
   "source": [
    "# 잘못된 결과 출력\n",
    "a = 1\n",
    "b = 3\n",
    "\n",
    "if a > b:\n",
    "    print(\"들여쓰기가 다르다면?!\")\n",
    "print(\"a가 b보다 큽니다.\")"
   ]
  },
  {
   "cell_type": "code",
   "execution_count": 6,
   "metadata": {},
   "outputs": [
    {
     "ename": "IndentationError",
     "evalue": "unexpected indent (842295374.py, line 7)",
     "output_type": "error",
     "traceback": [
      "\u001b[1;36m  Cell \u001b[1;32mIn[6], line 7\u001b[1;36m\u001b[0m\n\u001b[1;33m    print(\"이럴 때는?!\")\u001b[0m\n\u001b[1;37m    ^\u001b[0m\n\u001b[1;31mIndentationError\u001b[0m\u001b[1;31m:\u001b[0m unexpected indent\n"
     ]
    }
   ],
   "source": [
    "# 에러 발생\n",
    "a = 1\n",
    "b = 3\n",
    "\n",
    "if a > b:\n",
    "    print(\"들여쓰기가 다르다면?!\")\n",
    "print(\"a가 b보다 큽니다.\")\n",
    "    print(\"이럴 때는?!\")"
   ]
  },
  {
   "cell_type": "code",
   "execution_count": 8,
   "metadata": {},
   "outputs": [],
   "source": [
    "# 올바른 결과 출력\n",
    "# 조건이 맞지 않기 때문에 출력이 아무것도 없다.\n",
    "a = 1\n",
    "b = 3\n",
    "\n",
    "if a > b:\n",
    "    print(\"들여쓰기가 다르다면?!\")\n",
    "    print(\"a가 b보다 큽니다.\")"
   ]
  },
  {
   "attachments": {},
   "cell_type": "markdown",
   "metadata": {},
   "source": [
    "# 조건문이란 무엇인가?\n",
    "\n",
    "if 조건문:에서 조건문은 참(True)과 거짓(False)을 판단하는 문장을 의미한다.  "
   ]
  },
  {
   "attachments": {},
   "cell_type": "markdown",
   "metadata": {},
   "source": [
    "## 비교연산자\n",
    "\n",
    "비교연산자는 이름 그대로 두 값을 비교해서 불(Bool, Boolean) 자료형으로 결과 값을 반환해주는 연산자이다.  \n",
    "\n",
    "크다(>), 작다(<), 크거나 같다(>=), 작거나 같다(<=), 같다(==), 같지 않다(!=) 등이 있다."
   ]
  },
  {
   "cell_type": "code",
   "execution_count": null,
   "metadata": {},
   "outputs": [],
   "source": []
  },
  {
   "attachments": {},
   "cell_type": "markdown",
   "metadata": {},
   "source": [
    "## 논리연산자  \n",
    "\n",
    "논리연산자는 불 자료형에서 불 연산자로 쓰인 것과 같다.  \n",
    "\n",
    "and, or, not 연산자가 있다.  "
   ]
  },
  {
   "cell_type": "code",
   "execution_count": null,
   "metadata": {},
   "outputs": [],
   "source": []
  },
  {
   "attachments": {},
   "cell_type": "markdown",
   "metadata": {},
   "source": [
    "## in, not in  \n",
    "\n",
    "파이썬에 존재하는 특이한 연산자이다.  \n",
    "\n",
    "리스트, 튜플, 문자열과 함께 사용되는데, 지정한 값이 이 안에 있으면 True를, 아니면 False를 반환한다."
   ]
  },
  {
   "cell_type": "code",
   "execution_count": null,
   "metadata": {},
   "outputs": [],
   "source": []
  },
  {
   "attachments": {},
   "cell_type": "markdown",
   "metadata": {},
   "source": [
    "# 다양한 조건을 판단하는 elif문"
   ]
  },
  {
   "cell_type": "code",
   "execution_count": null,
   "metadata": {},
   "outputs": [],
   "source": []
  },
  {
   "attachments": {},
   "cell_type": "markdown",
   "metadata": {},
   "source": [
    "# 조건부 표현식"
   ]
  },
  {
   "cell_type": "code",
   "execution_count": null,
   "metadata": {},
   "outputs": [],
   "source": []
  }
 ],
 "metadata": {
  "kernelspec": {
   "display_name": "basic",
   "language": "python",
   "name": "python3"
  },
  "language_info": {
   "codemirror_mode": {
    "name": "ipython",
    "version": 3
   },
   "file_extension": ".py",
   "mimetype": "text/x-python",
   "name": "python",
   "nbconvert_exporter": "python",
   "pygments_lexer": "ipython3",
   "version": "3.10.9"
  },
  "orig_nbformat": 4
 },
 "nbformat": 4,
 "nbformat_minor": 2
}
