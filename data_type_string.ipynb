{
 "cells": [
  {
   "attachments": {},
   "cell_type": "markdown",
   "metadata": {},
   "source": [
    "# String & String Operator"
   ]
  },
  {
   "attachments": {},
   "cell_type": "markdown",
   "metadata": {},
   "source": [
    "## String"
   ]
  },
  {
   "cell_type": "code",
   "execution_count": null,
   "metadata": {},
   "outputs": [],
   "source": [
    "\"Lorem ipsum dolor sit amet, consectetur adipiscing elit.\"\n",
    "\n",
    "\"a\"\n",
    "\n",
    "\"123\" # 따옴표 안에 들어있는 숫자는 숫자형이 아니라 문자열이다."
   ]
  },
  {
   "cell_type": "code",
   "execution_count": 1,
   "metadata": {},
   "outputs": [
    {
     "ename": "SyntaxError",
     "evalue": "unterminated string literal (detected at line 1) (3664078085.py, line 1)",
     "output_type": "error",
     "traceback": [
      "\u001b[1;36m  Cell \u001b[1;32mIn[1], line 1\u001b[1;36m\u001b[0m\n\u001b[1;33m    a = 'Lorem ipsum dolor si's amet, consectetur adipiscing elit.'\u001b[0m\n\u001b[1;37m                                                                  ^\u001b[0m\n\u001b[1;31mSyntaxError\u001b[0m\u001b[1;31m:\u001b[0m unterminated string literal (detected at line 1)\n"
     ]
    }
   ],
   "source": [
    "a = 'Lorem ipsum dolor si's amet, consectetur adipiscing elit.'"
   ]
  },
  {
   "cell_type": "code",
   "execution_count": 2,
   "metadata": {},
   "outputs": [
    {
     "name": "stdout",
     "output_type": "stream",
     "text": [
      "Lorem ipsum dolor si's amet, consectetur adipiscing elit.\n",
      "Lorem ipsum dolor \"si amet, consectetur\" adipiscing elit.\n"
     ]
    }
   ],
   "source": [
    "a = \"Lorem ipsum dolor si's amet, consectetur adipiscing elit.\"\n",
    "b = 'Lorem ipsum dolor \"si amet, consectetur\" adipiscing elit.'\n",
    "\n",
    "print(a)\n",
    "print(b)"
   ]
  },
  {
   "cell_type": "code",
   "execution_count": 3,
   "metadata": {},
   "outputs": [
    {
     "name": "stdout",
     "output_type": "stream",
     "text": [
      "Lorem ipsum dolor si's amet, consectetur adipiscing elit.\n"
     ]
    }
   ],
   "source": [
    "a = 'Lorem ipsum dolor si\\'s amet, consectetur adipiscing elit.'\n",
    "print(a)"
   ]
  },
  {
   "cell_type": "code",
   "execution_count": 6,
   "metadata": {},
   "outputs": [
    {
     "name": "stdout",
     "output_type": "stream",
     "text": [
      "Lorem ipsum dolor si amet, consectetur adipiscing elit.\n",
      "Curabitur vitae commodo dui.\n"
     ]
    }
   ],
   "source": [
    "multiline = \"Lorem ipsum dolor si amet, consectetur adipiscing elit.\\nCurabitur vitae commodo dui.\"\n",
    "print(multiline)"
   ]
  },
  {
   "cell_type": "code",
   "execution_count": 8,
   "metadata": {},
   "outputs": [
    {
     "name": "stdout",
     "output_type": "stream",
     "text": [
      "\n",
      "Lorem ipsum dolor si amet, consectetur adipiscing elit.\n",
      "Curabitur vitae commodo dui.\n",
      "\n"
     ]
    }
   ],
   "source": [
    "multiline = \"\"\"\n",
    "Lorem ipsum dolor si amet, consectetur adipiscing elit.\n",
    "Curabitur vitae commodo dui.\n",
    "\"\"\"\n",
    "print(multiline)"
   ]
  },
  {
   "attachments": {},
   "cell_type": "markdown",
   "metadata": {},
   "source": [
    "## String Operator"
   ]
  },
  {
   "cell_type": "code",
   "execution_count": 9,
   "metadata": {},
   "outputs": [
    {
     "name": "stdout",
     "output_type": "stream",
     "text": [
      "Hello World\n"
     ]
    }
   ],
   "source": [
    "first = \"Hello\"\n",
    "last = \" World\"\n",
    "\n",
    "result = first + last\n",
    "\n",
    "print(result)"
   ]
  },
  {
   "cell_type": "code",
   "execution_count": 10,
   "metadata": {},
   "outputs": [
    {
     "name": "stdout",
     "output_type": "stream",
     "text": [
      "==================================================\n",
      "Hello World\n",
      "==================================================\n"
     ]
    }
   ],
   "source": [
    "a = \"=\"\n",
    "b = \"Hello World\"\n",
    "\n",
    "print(a * 50)\n",
    "print(b)\n",
    "print(a * 50)"
   ]
  },
  {
   "cell_type": "code",
   "execution_count": 11,
   "metadata": {},
   "outputs": [
    {
     "data": {
      "text/plain": [
       "5"
      ]
     },
     "execution_count": 11,
     "metadata": {},
     "output_type": "execute_result"
    }
   ],
   "source": [
    "a = \"Hello\"\n",
    "len(a)"
   ]
  },
  {
   "cell_type": "code",
   "execution_count": 12,
   "metadata": {},
   "outputs": [
    {
     "data": {
      "text/plain": [
       "56"
      ]
     },
     "execution_count": 12,
     "metadata": {},
     "output_type": "execute_result"
    }
   ],
   "source": [
    "a = \"Lorem ipsum dolor sit amet, consectetur adipiscing elit.\"\n",
    "len(a)"
   ]
  },
  {
   "attachments": {},
   "cell_type": "markdown",
   "metadata": {},
   "source": [
    "# String Indexing & Slicing / String Formatting"
   ]
  },
  {
   "attachments": {},
   "cell_type": "markdown",
   "metadata": {},
   "source": [
    "## String Indexing"
   ]
  },
  {
   "cell_type": "code",
   "execution_count": null,
   "metadata": {},
   "outputs": [
    {
     "data": {
      "text/plain": [
       "'o'"
      ]
     },
     "metadata": {},
     "output_type": "display_data"
    }
   ],
   "source": [
    "a = \"Hello World\"\n",
    "a[4]"
   ]
  },
  {
   "cell_type": "code",
   "execution_count": null,
   "metadata": {},
   "outputs": [
    {
     "data": {
      "text/plain": [
       "'d'"
      ]
     },
     "metadata": {},
     "output_type": "display_data"
    }
   ],
   "source": [
    "a = \"Hello World\"\n",
    "a[-1]"
   ]
  },
  {
   "cell_type": "code",
   "execution_count": null,
   "metadata": {},
   "outputs": [
    {
     "data": {
      "text/plain": [
       "'r'"
      ]
     },
     "metadata": {},
     "output_type": "display_data"
    }
   ],
   "source": [
    "a = \"Hello World\"\n",
    "a[-3]"
   ]
  },
  {
   "cell_type": "code",
   "execution_count": null,
   "metadata": {},
   "outputs": [
    {
     "ename": "TypeError",
     "evalue": "'str' object does not support item assignment",
     "output_type": "error",
     "traceback": [
      "\u001b[1;31m---------------------------------------------------------------------------\u001b[0m\n",
      "\u001b[1;31mTypeError\u001b[0m                                 Traceback (most recent call last)\n",
      "Cell \u001b[1;32mIn[4], line 2\u001b[0m\n",
      "\u001b[0;32m      1\u001b[0m a \u001b[39m=\u001b[39m \u001b[39m\"\u001b[39m\u001b[39mHello World\u001b[39m\u001b[39m\"\u001b[39m\n",
      "\u001b[1;32m----> 2\u001b[0m a[\u001b[39m0\u001b[39m] \u001b[39m=\u001b[39m \u001b[39m\"\u001b[39m\u001b[39mK\u001b[39m\u001b[39m\"\u001b[39m\n",
      "\n",
      "\u001b[1;31mTypeError\u001b[0m: 'str' object does not support item assignment"
     ]
    }
   ],
   "source": [
    "a = \"Hello World\"\n",
    "a[0] = \"K\""
   ]
  },
  {
   "attachments": {},
   "cell_type": "markdown",
   "metadata": {},
   "source": [
    "## String Slicing"
   ]
  },
  {
   "cell_type": "code",
   "execution_count": null,
   "metadata": {},
   "outputs": [
    {
     "name": "stdout",
     "output_type": "stream",
     "text": [
      "Hello\n",
      "World\n"
     ]
    }
   ],
   "source": [
    "a = \"Hello World\"\n",
    "a1 = a[0:5]\n",
    "a2 = a[6:11]\n",
    "\n",
    "print(a1)\n",
    "print(a2)"
   ]
  },
  {
   "cell_type": "code",
   "execution_count": null,
   "metadata": {},
   "outputs": [
    {
     "name": "stdout",
     "output_type": "stream",
     "text": [
      "Hello\n",
      "Hello \n",
      "a1과 a2는 같지 않습니다.\n"
     ]
    }
   ],
   "source": [
    "a = \"Hello World\"\n",
    "\n",
    "a1 = a[0:5]\n",
    "a2 = a[0:6]\n",
    "\n",
    "print(a1)\n",
    "print(a2)\n",
    "\n",
    "if a1 == a2:\n",
    "    print(\"a1과 a2는 같습니다.\")\n",
    "else:\n",
    "    print(\"a1과 a2는 같지 않습니다.\")"
   ]
  },
  {
   "cell_type": "code",
   "execution_count": null,
   "metadata": {},
   "outputs": [
    {
     "name": "stdout",
     "output_type": "stream",
     "text": [
      "Hello\n",
      "World\n",
      "Hello World\n"
     ]
    }
   ],
   "source": [
    "a = \"Hello World\"\n",
    "\n",
    "a1 = a[:5]\n",
    "a2 = a[6:]\n",
    "a3 = a[:]\n",
    "\n",
    "print(a1)\n",
    "print(a2)\n",
    "print(a3)"
   ]
  },
  {
   "cell_type": "code",
   "execution_count": null,
   "metadata": {},
   "outputs": [
    {
     "name": "stdout",
     "output_type": "stream",
     "text": [
      "오늘은 2023년 01월 22일 입니다.\n"
     ]
    }
   ],
   "source": [
    "date = \"20230122\"\n",
    "\n",
    "year = date[0:4]\n",
    "month = date[4:6]\n",
    "day = date[6:8]\n",
    "\n",
    "print(f\"오늘은 {year}년 {month}월 {day}일 입니다.\")"
   ]
  },
  {
   "attachments": {},
   "cell_type": "markdown",
   "metadata": {},
   "source": [
    "## String Formatting"
   ]
  },
  {
   "cell_type": "code",
   "execution_count": null,
   "metadata": {},
   "outputs": [
    {
     "name": "stdout",
     "output_type": "stream",
     "text": [
      "올해는 2023년 입니다.\n"
     ]
    }
   ],
   "source": [
    "year = 2023\n",
    "\n",
    "day_str = \"올해는 %d년 입니다.\" %year\n",
    "\n",
    "print(day_str)"
   ]
  },
  {
   "cell_type": "code",
   "execution_count": null,
   "metadata": {},
   "outputs": [
    {
     "name": "stdout",
     "output_type": "stream",
     "text": [
      "올해는 2023년 입니다.\n"
     ]
    }
   ],
   "source": [
    "year = 2023\n",
    "\n",
    "day_str = \"올해는 %s년 입니다.\" %year\n",
    "\n",
    "print(day_str)"
   ]
  },
  {
   "cell_type": "code",
   "execution_count": null,
   "metadata": {},
   "outputs": [
    {
     "name": "stdout",
     "output_type": "stream",
     "text": [
      "오늘은 2023년 1월 22일 입니다.\n"
     ]
    }
   ],
   "source": [
    "year = 2023\n",
    "month = 1\n",
    "day = 22\n",
    "\n",
    "day_str = \"오늘은 %d년 %d월 %d일 입니다.\" %(year, month, day)\n",
    "\n",
    "print(day_str)"
   ]
  },
  {
   "cell_type": "code",
   "execution_count": null,
   "metadata": {},
   "outputs": [
    {
     "name": "stdout",
     "output_type": "stream",
     "text": [
      "파이 값은 3.14 이다.\n"
     ]
    }
   ],
   "source": [
    "a = 3.14159265358979\n",
    "\n",
    "pi_ = \"파이 값은 %.2f 이다.\" %a\n",
    "\n",
    "print(pi_)"
   ]
  },
  {
   "cell_type": "code",
   "execution_count": null,
   "metadata": {},
   "outputs": [
    {
     "name": "stdout",
     "output_type": "stream",
     "text": [
      "파이 값은 3.1416 이다.\n"
     ]
    }
   ],
   "source": [
    "a = 3.14159265358979\n",
    "\n",
    "pi_ = \"파이 값은 %.4f 이다.\" %a\n",
    "\n",
    "print(pi_)"
   ]
  },
  {
   "cell_type": "code",
   "execution_count": null,
   "metadata": {},
   "outputs": [
    {
     "name": "stdout",
     "output_type": "stream",
     "text": [
      "오늘은 2023년 1 월 5 일 입니다.\n",
      "오늘은 2023년 10월 15일 입니다.\n"
     ]
    }
   ],
   "source": [
    "day_str = \"오늘은 %4d년 %-2d월 %-2d일 입니다.\" %(2023, 1, 5)\n",
    "print(day_str)\n",
    "\n",
    "day_str = \"오늘은 %4d년 %-2d월 %-2d일 입니다.\" %(2023, 10, 15)\n",
    "print(day_str)"
   ]
  },
  {
   "cell_type": "code",
   "execution_count": null,
   "metadata": {},
   "outputs": [
    {
     "name": "stdout",
     "output_type": "stream",
     "text": [
      "올해는 2023년 입니다.\n"
     ]
    }
   ],
   "source": [
    "year = 2023\n",
    "\n",
    "day_str = \"올해는 {0}년 입니다.\".format(year)\n",
    "\n",
    "print(day_str)"
   ]
  },
  {
   "cell_type": "code",
   "execution_count": null,
   "metadata": {},
   "outputs": [
    {
     "name": "stdout",
     "output_type": "stream",
     "text": [
      "오늘은 2023년 2023월 2023일 입니다.\n"
     ]
    }
   ],
   "source": [
    "year = 2023\n",
    "month = 1\n",
    "day = 22\n",
    "\n",
    "day_str = \"오늘은 {0}년 {0}월 {0}일 입니다.\".format(year, month, day)\n",
    "\n",
    "print(day_str)"
   ]
  },
  {
   "cell_type": "code",
   "execution_count": null,
   "metadata": {},
   "outputs": [
    {
     "name": "stdout",
     "output_type": "stream",
     "text": [
      "오늘은 2023년 1월 22일 입니다.\n"
     ]
    }
   ],
   "source": [
    "day_str = \"오늘은 {year}년 {month}월 {day}일 입니다.\".format(year=2023, month=1, day=22)\n",
    "\n",
    "print(day_str)"
   ]
  },
  {
   "cell_type": "code",
   "execution_count": null,
   "metadata": {},
   "outputs": [
    {
     "name": "stdout",
     "output_type": "stream",
     "text": [
      "오늘은 2023년 1월 22일 입니다.\n"
     ]
    }
   ],
   "source": [
    "year = 2023\n",
    "month = 1\n",
    "day = 22\n",
    "\n",
    "day_str = \"오늘은 {year}년 {month}월 {day}일 입니다.\".format(year=year, month=month, day=day)\n",
    "\n",
    "print(day_str)"
   ]
  },
  {
   "cell_type": "code",
   "execution_count": null,
   "metadata": {},
   "outputs": [
    {
     "name": "stdout",
     "output_type": "stream",
     "text": [
      "        hi\n",
      "hi        \n",
      "    hi    \n"
     ]
    }
   ],
   "source": [
    "print(\"{0:>10}\".format(\"hi\")) # 10자리, 오른쪽 정렬\n",
    "print(\"{0:<10}\".format(\"hi\")) # 10자리, 왼쪽 정렬\n",
    "print(\"{0:^10}\".format(\"hi\")) # 10자리, 가운데 정렬"
   ]
  },
  {
   "cell_type": "code",
   "execution_count": null,
   "metadata": {},
   "outputs": [
    {
     "name": "stdout",
     "output_type": "stream",
     "text": [
      "오늘은 2023년 1월 22일 입니다.\n"
     ]
    }
   ],
   "source": [
    "year = 2023\n",
    "month = 1\n",
    "day = 22\n",
    "\n",
    "print(f\"오늘은 {year}년 {month}월 {day}일 입니다.\")"
   ]
  },
  {
   "cell_type": "code",
   "execution_count": null,
   "metadata": {},
   "outputs": [
    {
     "name": "stdout",
     "output_type": "stream",
     "text": [
      "오늘은 2023년 1월 22일 입니다.\n"
     ]
    }
   ],
   "source": [
    "year = 2023\n",
    "month = 1\n",
    "day = 22\n",
    "\n",
    "day_str = f\"오늘은 {year}년 {month}월 {day}일 입니다.\"\n",
    "\n",
    "print(day_str)"
   ]
  },
  {
   "cell_type": "code",
   "execution_count": null,
   "metadata": {},
   "outputs": [
    {
     "name": "stdout",
     "output_type": "stream",
     "text": [
      "        hi\n",
      "hi        \n",
      "    hi    \n"
     ]
    }
   ],
   "source": [
    "print(f'{\"hi\":>10}') # 10자리, 오른쪽 정렬\n",
    "print(f'{\"hi\":<10}') # 10자리, 왼쪽 정렬\n",
    "print(f'{\"hi\":^10}') # 10자리, 가운데 정렬"
   ]
  },
  {
   "cell_type": "code",
   "execution_count": null,
   "metadata": {},
   "outputs": [
    {
     "name": "stdout",
     "output_type": "stream",
     "text": [
      "파이 값은 3.14 이다.\n"
     ]
    }
   ],
   "source": [
    "a = 3.14159265358979\n",
    "\n",
    "pi_ = f\"파이 값은 {a:0.2f} 이다.\"\n",
    "\n",
    "print(pi_)"
   ]
  },
  {
   "attachments": {},
   "cell_type": "markdown",
   "metadata": {},
   "source": [
    "# String Method"
   ]
  },
  {
   "cell_type": "code",
   "execution_count": null,
   "metadata": {},
   "outputs": [
    {
     "name": "stdout",
     "output_type": "stream",
     "text": [
      "1\n",
      "3\n"
     ]
    }
   ],
   "source": [
    "a = \"Hello World\"\n",
    "\n",
    "print(a.count(\"H\"))\n",
    "print(a.count(\"l\"))"
   ]
  },
  {
   "cell_type": "code",
   "execution_count": null,
   "metadata": {},
   "outputs": [
    {
     "name": "stdout",
     "output_type": "stream",
     "text": [
      "0\n",
      "2\n",
      "-1\n",
      "3\n"
     ]
    }
   ],
   "source": [
    "a = \"Hello World\"\n",
    "\n",
    "print(a.find(\"H\")) # 0\n",
    "print(a.find(\"l\")) # 2\n",
    "print(a.find(\"z\")) # -1"
   ]
  },
  {
   "cell_type": "code",
   "execution_count": null,
   "metadata": {},
   "outputs": [
    {
     "name": "stdout",
     "output_type": "stream",
     "text": [
      "0\n",
      "2\n"
     ]
    }
   ],
   "source": [
    "a = \"Hello World\"\n",
    "\n",
    "print(a.index(\"H\")) # 0\n",
    "print(a.index(\"l\")) # 2"
   ]
  },
  {
   "cell_type": "code",
   "execution_count": null,
   "metadata": {},
   "outputs": [
    {
     "ename": "ValueError",
     "evalue": "substring not found",
     "output_type": "error",
     "traceback": [
      "\u001b[1;31m---------------------------------------------------------------------------\u001b[0m\n",
      "\u001b[1;31mValueError\u001b[0m                                Traceback (most recent call last)\n",
      "Cell \u001b[1;32mIn[2], line 3\u001b[0m\n",
      "\u001b[0;32m      1\u001b[0m a \u001b[39m=\u001b[39m \u001b[39m\"\u001b[39m\u001b[39mHello World\u001b[39m\u001b[39m\"\u001b[39m\n",
      "\u001b[1;32m----> 3\u001b[0m \u001b[39mprint\u001b[39m(a\u001b[39m.\u001b[39;49mindex(\u001b[39m\"\u001b[39;49m\u001b[39mz\u001b[39;49m\u001b[39m\"\u001b[39;49m))\n",
      "\n",
      "\u001b[1;31mValueError\u001b[0m: substring not found"
     ]
    }
   ],
   "source": [
    "a = \"Hello World\"\n",
    "\n",
    "print(a.index(\"z\")) # -1"
   ]
  },
  {
   "cell_type": "code",
   "execution_count": null,
   "metadata": {},
   "outputs": [
    {
     "name": "stdout",
     "output_type": "stream",
     "text": [
      "H e l l o\n"
     ]
    }
   ],
   "source": [
    "a = \"Hello\"\n",
    "\n",
    "print(\" \".join(a))d"
   ]
  },
  {
   "cell_type": "code",
   "execution_count": null,
   "metadata": {},
   "outputs": [
    {
     "name": "stdout",
     "output_type": "stream",
     "text": [
      "H E L L O\n",
      "H E L L O\n"
     ]
    }
   ],
   "source": [
    "a = [\"H\", \"E\", \"L\", \"L\", \"O\"] # 리스트\n",
    "b = (\"H\", \"E\", \"L\", \"L\", \"O\") # 튜플\n",
    "\n",
    "print(\" \".join(a))\n",
    "print(\" \".join(b))"
   ]
  },
  {
   "cell_type": "code",
   "execution_count": null,
   "metadata": {},
   "outputs": [
    {
     "name": "stdout",
     "output_type": "stream",
     "text": [
      "['Lorem', 'ipsum', 'dolor', 'sit', 'amet,', 'consectetur', 'adipiscing', 'elit.']\n",
      "['Lorem', 'ipsum', 'dolor', 'sit', 'amet,', 'consectetur', 'adipiscing', 'elit.']\n"
     ]
    }
   ],
   "source": [
    "a = \"Lorem ipsum dolor sit amet, consectetur adipiscing elit.\"\n",
    "\n",
    "print(a.split())\n",
    "print(a.split(\" \"))"
   ]
  },
  {
   "cell_type": "code",
   "execution_count": null,
   "metadata": {},
   "outputs": [
    {
     "name": "stdout",
     "output_type": "stream",
     "text": [
      "['Lorem', 'ipsum', 'dolor', 'sit amet', 'consectetur', 'adipiscing elit.']\n"
     ]
    }
   ],
   "source": [
    "a = \"Lorem:ipsum:dolor:sit amet:consectetur:adipiscing elit.\"\n",
    "\n",
    "print(a.split(\":\"))"
   ]
  },
  {
   "cell_type": "code",
   "execution_count": null,
   "metadata": {},
   "outputs": [
    {
     "name": "stdout",
     "output_type": "stream",
     "text": [
      "/   Hello   /\n",
      "/Hello   /\n"
     ]
    }
   ],
   "source": [
    "a = \"   Hello   \"\n",
    "\n",
    "print(\"/\" + a + \"/\")\n",
    "print(\"/\" + a.lstrip() + \"/\")"
   ]
  },
  {
   "cell_type": "code",
   "execution_count": null,
   "metadata": {},
   "outputs": [
    {
     "name": "stdout",
     "output_type": "stream",
     "text": [
      "/   Hello   /\n",
      "/   Hello/\n"
     ]
    }
   ],
   "source": [
    "a = \"   Hello   \"\n",
    "\n",
    "print(\"/\" + a + \"/\")\n",
    "print(\"/\" + a.rstrip() + \"/\")"
   ]
  },
  {
   "cell_type": "code",
   "execution_count": null,
   "metadata": {},
   "outputs": [
    {
     "name": "stdout",
     "output_type": "stream",
     "text": [
      "/   Hello   /\n",
      "/Hello/\n"
     ]
    }
   ],
   "source": [
    "a = \"   Hello   \"\n",
    "\n",
    "print(\"/\" + a + \"/\")\n",
    "print(\"/\" + a.strip() + \"/\")"
   ]
  },
  {
   "cell_type": "code",
   "execution_count": null,
   "metadata": {},
   "outputs": [
    {
     "name": "stdout",
     "output_type": "stream",
     "text": [
      "HeLLo WorLd\n",
      "hello world\n"
     ]
    }
   ],
   "source": [
    "a = \"HeLLo WorLd\"\n",
    "\n",
    "print(a)\n",
    "print(a.lower())"
   ]
  },
  {
   "cell_type": "code",
   "execution_count": null,
   "metadata": {},
   "outputs": [
    {
     "name": "stdout",
     "output_type": "stream",
     "text": [
      "HeLLo WorLd\n",
      "HELLO WORLD\n"
     ]
    }
   ],
   "source": [
    "a = \"HeLLo WorLd\"\n",
    "\n",
    "print(a)\n",
    "print(a.upper())"
   ]
  },
  {
   "cell_type": "code",
   "execution_count": null,
   "metadata": {},
   "outputs": [
    {
     "name": "stdout",
     "output_type": "stream",
     "text": [
      "HeLLo WorLd\n",
      "hEllO wORlD\n"
     ]
    }
   ],
   "source": [
    "a = \"HeLLo WorLd\"\n",
    "\n",
    "print(a)\n",
    "print(a.swapcase())"
   ]
  },
  {
   "cell_type": "code",
   "execution_count": null,
   "metadata": {},
   "outputs": [
    {
     "name": "stdout",
     "output_type": "stream",
     "text": [
      "Lorem ipsum dolor sit amet\n",
      "Lorem Ipsum Dolor Sit Amet\n"
     ]
    }
   ],
   "source": [
    "a = \"Lorem ipsum dolor sit amet\"\n",
    "\n",
    "print(a)\n",
    "print(a.title())"
   ]
  },
  {
   "cell_type": "code",
   "execution_count": null,
   "metadata": {},
   "outputs": [
    {
     "name": "stdout",
     "output_type": "stream",
     "text": [
      "lorEM IPsum DOlor SIT aMEt\n",
      "Lorem ipsum dolor sit amet\n"
     ]
    }
   ],
   "source": [
    "a = \"lorEM IPsum DOlor SIT aMEt\"\n",
    "\n",
    "print(a)\n",
    "print(a.capitalize())"
   ]
  },
  {
   "cell_type": "code",
   "execution_count": null,
   "metadata": {},
   "outputs": [
    {
     "name": "stdout",
     "output_type": "stream",
     "text": [
      "Hi, World\n",
      "Heooo Worod\n"
     ]
    }
   ],
   "source": [
    "a = \"Hello World\"\n",
    "\n",
    "print(a.replace(\"Hello\", \"Hi,\"))\n",
    "print(a.replace(\"l\", \"o\"))"
   ]
  },
  {
   "cell_type": "code",
   "execution_count": null,
   "metadata": {},
   "outputs": [],
   "source": []
  }
 ],
 "metadata": {
  "kernelspec": {
   "display_name": "basic",
   "language": "python",
   "name": "python3"
  },
  "language_info": {
   "codemirror_mode": {
    "name": "ipython",
    "version": 3
   },
   "file_extension": ".py",
   "mimetype": "text/x-python",
   "name": "python",
   "nbconvert_exporter": "python",
   "pygments_lexer": "ipython3",
   "version": "3.10.9 | packaged by conda-forge | (main, Jan 11 2023, 15:15:40) [MSC v.1916 64 bit (AMD64)]"
  },
  "orig_nbformat": 4,
  "vscode": {
   "interpreter": {
    "hash": "514b9fec8eeb9f3740e56821ec95ba3e0b4a82e7ba5d7ff1f00d9bcaf7b9615a"
   }
  }
 },
 "nbformat": 4,
 "nbformat_minor": 2
}
