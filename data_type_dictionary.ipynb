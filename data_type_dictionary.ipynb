{
 "cells": [
  {
   "attachments": {},
   "cell_type": "markdown",
   "metadata": {},
   "source": [
    "# Dictionary 다루기"
   ]
  },
  {
   "attachments": {},
   "cell_type": "markdown",
   "metadata": {},
   "source": [
    "대응 관계를 나타낼 수 있는 자료형 => 연관배열(Associative Array) or 해시(Hash)  \n",
    "파이썬에서 대응 관계를 나타낼 수 있는 자료형 => 딕셔너리(Dictionary)  "
   ]
  },
  {
   "attachments": {},
   "cell_type": "markdown",
   "metadata": {},
   "source": [
    "딕셔너리는 Key-Value가 한 쌍으로 이루어진 자료형  \n",
    "리스트와 튜플이 순차적(Sequential)으로 요소 값을 요구하는 것과 달리, 딕셔너리에서는 Key를 통해 Value를 얻는다."
   ]
  },
  {
   "attachments": {},
   "cell_type": "markdown",
   "metadata": {},
   "source": [
    "## 딕셔너리 선언하기"
   ]
  },
  {
   "cell_type": "code",
   "execution_count": 1,
   "metadata": {},
   "outputs": [
    {
     "ename": "SyntaxError",
     "evalue": "':' expected after dictionary key (1136988452.py, line 2)",
     "output_type": "error",
     "traceback": [
      "\u001b[1;36m  Cell \u001b[1;32mIn[1], line 2\u001b[1;36m\u001b[0m\n\u001b[1;33m    {Key1:Value1, Key2:Value2, Key3:Value3, ...}\u001b[0m\n\u001b[1;37m                                              ^\u001b[0m\n\u001b[1;31mSyntaxError\u001b[0m\u001b[1;31m:\u001b[0m ':' expected after dictionary key\n"
     ]
    }
   ],
   "source": [
    "# 딕셔너리의 기본 형태\n",
    "{Key1:Value1, Key2:Value2, Key3:Value3, ...}"
   ]
  },
  {
   "cell_type": "code",
   "execution_count": 3,
   "metadata": {},
   "outputs": [],
   "source": [
    "\n",
    "# 딕셔네러 예\n",
    "dic = {\n",
    "    \"name\" : \"청월누리\",\n",
    "    \"phone\" : \"010-0000-0000\",\n",
    "    \"birth\" : \"230205\",\n",
    "    \"url\" : \"https://dev-lunamundus.tistory.com/\"\n",
    "}"
   ]
  },
  {
   "cell_type": "code",
   "execution_count": 4,
   "metadata": {},
   "outputs": [],
   "source": [
    "a = {1: \"Hello\"}"
   ]
  },
  {
   "cell_type": "code",
   "execution_count": 5,
   "metadata": {},
   "outputs": [],
   "source": [
    "a = {'a' : [1, 2, 3]}"
   ]
  },
  {
   "cell_type": "code",
   "execution_count": 6,
   "metadata": {},
   "outputs": [],
   "source": [
    "a = {\n",
    "    'a' : {\n",
    "        1 : 'Hello',\n",
    "        2 : 'World'\n",
    "        },\n",
    "    'b' : {\n",
    "        1 : 'Hi',\n",
    "        2 : 'Python'\n",
    "        }\n",
    "    }"
   ]
  },
  {
   "attachments": {},
   "cell_type": "markdown",
   "metadata": {},
   "source": [
    "## 딕셔너리 불러오기"
   ]
  },
  {
   "cell_type": "code",
   "execution_count": 14,
   "metadata": {},
   "outputs": [
    {
     "name": "stdout",
     "output_type": "stream",
     "text": [
      "이름은 : 청월누리\n",
      "번호는 : 010-0000-0000\n",
      "생일은 : 230205\n",
      "주소는 : https://dev-lunamundus.tistory.com/\n"
     ]
    }
   ],
   "source": [
    "dic = {\n",
    "    \"name\" : \"청월누리\",\n",
    "    \"phone\" : \"010-0000-0000\",\n",
    "    \"birth\" : \"230205\",\n",
    "    \"url\" : \"https://dev-lunamundus.tistory.com/\"\n",
    "}\n",
    "\n",
    "print(f'이름은 : {dic[\"name\"]}') # dictionary[key]를 통해 value 반환\n",
    "print(f'번호는 : {dic[\"phone\"]}')\n",
    "print(f'생일은 : {dic[\"birth\"]}')\n",
    "print(f'주소는 : {dic[\"url\"]}')"
   ]
  },
  {
   "attachments": {},
   "cell_type": "markdown",
   "metadata": {},
   "source": [
    "## 딕셔너리 쌍 추가 및 삭제하기"
   ]
  },
  {
   "attachments": {},
   "cell_type": "markdown",
   "metadata": {},
   "source": [
    "### 쌍 추가하기"
   ]
  },
  {
   "cell_type": "code",
   "execution_count": 19,
   "metadata": {},
   "outputs": [
    {
     "name": "stdout",
     "output_type": "stream",
     "text": [
      "{'name': '청월누리'}\n"
     ]
    }
   ],
   "source": [
    "info = {} # 빈 딕셔너리 생성\n",
    "info['name'] = '청월누리' # dictionary[key] = value\n",
    "\n",
    "print(info)"
   ]
  },
  {
   "cell_type": "code",
   "execution_count": 20,
   "metadata": {},
   "outputs": [
    {
     "name": "stdout",
     "output_type": "stream",
     "text": [
      "{'name': '청월누리', 'phone': '010-0000-0000'}\n"
     ]
    }
   ],
   "source": [
    "info = {\n",
    "    'name' : \"청월누리\"\n",
    "}\n",
    "info['phone'] = '010-0000-0000'\n",
    "\n",
    "print(info)"
   ]
  },
  {
   "attachments": {},
   "cell_type": "markdown",
   "metadata": {},
   "source": [
    "### 요소 삭제하기"
   ]
  },
  {
   "cell_type": "code",
   "execution_count": 21,
   "metadata": {},
   "outputs": [
    {
     "name": "stdout",
     "output_type": "stream",
     "text": [
      "{'name': '청월누리', 'phone': '010-0000-0000', 'birth': '230205', 'url': 'https://dev-lunamundus.tistory.com/'}\n",
      "{'name': '청월누리', 'birth': '230205', 'url': 'https://dev-lunamundus.tistory.com/'}\n"
     ]
    }
   ],
   "source": [
    "info = {\n",
    "    \"name\" : \"청월누리\",\n",
    "    \"phone\" : \"010-0000-0000\",\n",
    "    \"birth\" : \"230205\",\n",
    "    \"url\" : \"https://dev-lunamundus.tistory.com/\"\n",
    "}\n",
    "print(info)\n",
    "\n",
    "del info['phone']\n",
    "print(info)"
   ]
  },
  {
   "attachments": {},
   "cell_type": "markdown",
   "metadata": {},
   "source": [
    "## 딕셔너리 주의점"
   ]
  },
  {
   "attachments": {},
   "cell_type": "markdown",
   "metadata": {},
   "source": [
    "딕셔너리에서 Key는 고유한 값을 가지게 됨 => key 값을 중복해서 설정하면 하나를 제외한 나머지가 모두 사라짐"
   ]
  },
  {
   "cell_type": "code",
   "execution_count": 15,
   "metadata": {},
   "outputs": [
    {
     "name": "stdout",
     "output_type": "stream",
     "text": [
      "{1: 'Hi', 2: 'Python'}\n"
     ]
    }
   ],
   "source": [
    "a = {1 : 'Hello', 2 : 'Python', 1 : 'Hi'}\n",
    "\n",
    "print(a)"
   ]
  },
  {
   "cell_type": "code",
   "execution_count": 57,
   "metadata": {},
   "outputs": [
    {
     "name": "stdout",
     "output_type": "stream",
     "text": [
      "{'name': '청월누리', 'phone': '010-0000-0000', 'birth': '230205', 'url': 'https://dev-lunamundus.tistory.com/'}\n",
      "{'name': '청월이', 'phone': '010-0000-0000', 'birth': '230205', 'url': 'https://dev-lunamundus.tistory.com/'}\n"
     ]
    }
   ],
   "source": [
    "info = {\n",
    "    \"name\" : \"청월누리\",\n",
    "    \"phone\" : \"010-0000-0000\",\n",
    "    \"birth\" : \"230205\",\n",
    "    \"url\" : \"https://dev-lunamundus.tistory.com/\"\n",
    "}\n",
    "print(info)\n",
    "\n",
    "info[\"name\"] = \"청월이\"\n",
    "print(info)"
   ]
  },
  {
   "cell_type": "code",
   "execution_count": 16,
   "metadata": {},
   "outputs": [
    {
     "ename": "TypeError",
     "evalue": "unhashable type: 'list'",
     "output_type": "error",
     "traceback": [
      "\u001b[1;31m---------------------------------------------------------------------------\u001b[0m",
      "\u001b[1;31mTypeError\u001b[0m                                 Traceback (most recent call last)",
      "Cell \u001b[1;32mIn[16], line 1\u001b[0m\n\u001b[1;32m----> 1\u001b[0m a \u001b[39m=\u001b[39m {[\u001b[39m1\u001b[39m, \u001b[39m2\u001b[39m] : \u001b[39m'\u001b[39m\u001b[39mHello\u001b[39m\u001b[39m'\u001b[39m}\n\u001b[0;32m      3\u001b[0m \u001b[39mprint\u001b[39m(a)\n",
      "\u001b[1;31mTypeError\u001b[0m: unhashable type: 'list'"
     ]
    }
   ],
   "source": [
    "a = {[1, 2] : 'Hello'}\n",
    "\n",
    "print(a)"
   ]
  },
  {
   "cell_type": "code",
   "execution_count": 18,
   "metadata": {},
   "outputs": [
    {
     "name": "stdout",
     "output_type": "stream",
     "text": [
      "{(1, 2): 'Hello'}\n"
     ]
    }
   ],
   "source": [
    "a = {(1, 2) : 'Hello'}\n",
    "\n",
    "print(a)"
   ]
  },
  {
   "attachments": {},
   "cell_type": "markdown",
   "metadata": {},
   "source": [
    "# Dictionary Function & Method"
   ]
  },
  {
   "attachments": {},
   "cell_type": "markdown",
   "metadata": {},
   "source": [
    "## Key & Value 리스트 얻기 : keys(), values(), items()"
   ]
  },
  {
   "attachments": {},
   "cell_type": "markdown",
   "metadata": {},
   "source": [
    "### keys()"
   ]
  },
  {
   "cell_type": "code",
   "execution_count": 25,
   "metadata": {},
   "outputs": [
    {
     "name": "stdout",
     "output_type": "stream",
     "text": [
      "dict_keys(['name', 'phone', 'birth', 'url'])\n",
      "<class 'dict_keys'>\n"
     ]
    }
   ],
   "source": [
    "info = {\n",
    "    \"name\" : \"청월누리\",\n",
    "    \"phone\" : \"010-0000-0000\",\n",
    "    \"birth\" : \"230205\",\n",
    "    \"url\" : \"https://dev-lunamundus.tistory.com/\"\n",
    "}\n",
    "\n",
    "print(info.keys()) # dictionary.keys()\n",
    "print(type(info.keys()))"
   ]
  },
  {
   "cell_type": "code",
   "execution_count": 26,
   "metadata": {},
   "outputs": [
    {
     "name": "stdout",
     "output_type": "stream",
     "text": [
      "name\n",
      "phone\n",
      "birth\n",
      "url\n"
     ]
    }
   ],
   "source": [
    "info = {\n",
    "    \"name\" : \"청월누리\",\n",
    "    \"phone\" : \"010-0000-0000\",\n",
    "    \"birth\" : \"230205\",\n",
    "    \"url\" : \"https://dev-lunamundus.tistory.com/\"\n",
    "}\n",
    "\n",
    "for k in info.keys(): # 리스트처럼 사용할 수 있지만, 리스트가 아니기 때문에 리스트 고유의 함수(메소드)는 사용할 수 없음.\n",
    "    print(k)"
   ]
  },
  {
   "cell_type": "code",
   "execution_count": 58,
   "metadata": {},
   "outputs": [
    {
     "name": "stdout",
     "output_type": "stream",
     "text": [
      "dic_keys : dict_keys(['name', 'phone', 'birth', 'url']) / type : <class 'dict_keys'>\n",
      "dic_keys : ['name', 'phone', 'birth', 'url'] / type : <class 'list'>\n"
     ]
    }
   ],
   "source": [
    "info = {\n",
    "    \"name\" : \"청월누리\",\n",
    "    \"phone\" : \"010-0000-0000\",\n",
    "    \"birth\" : \"230205\",\n",
    "    \"url\" : \"https://dev-lunamundus.tistory.com/\"\n",
    "}\n",
    "\n",
    "dic_keys = info.keys()\n",
    "print(f'dic_keys : {dic_keys} / type : {type(dic_keys)}')\n",
    "\n",
    "dic_keys = list(info.keys())\n",
    "print(f'dic_keys : {dic_keys} / type : {type(dic_keys)}')"
   ]
  },
  {
   "attachments": {},
   "cell_type": "markdown",
   "metadata": {},
   "source": [
    "### values()"
   ]
  },
  {
   "cell_type": "code",
   "execution_count": 27,
   "metadata": {},
   "outputs": [
    {
     "name": "stdout",
     "output_type": "stream",
     "text": [
      "dict_values(['청월누리', '010-0000-0000', '230205', 'https://dev-lunamundus.tistory.com/'])\n",
      "<class 'dict_values'>\n"
     ]
    }
   ],
   "source": [
    "info = {\n",
    "    \"name\" : \"청월누리\",\n",
    "    \"phone\" : \"010-0000-0000\",\n",
    "    \"birth\" : \"230205\",\n",
    "    \"url\" : \"https://dev-lunamundus.tistory.com/\"\n",
    "}\n",
    "\n",
    "print(info.values()) # dict.values()\n",
    "print(type(info.values()))"
   ]
  },
  {
   "cell_type": "code",
   "execution_count": 28,
   "metadata": {},
   "outputs": [
    {
     "name": "stdout",
     "output_type": "stream",
     "text": [
      "청월누리\n",
      "010-0000-0000\n",
      "230205\n",
      "https://dev-lunamundus.tistory.com/\n"
     ]
    }
   ],
   "source": [
    "info = {\n",
    "    \"name\" : \"청월누리\",\n",
    "    \"phone\" : \"010-0000-0000\",\n",
    "    \"birth\" : \"230205\",\n",
    "    \"url\" : \"https://dev-lunamundus.tistory.com/\"\n",
    "}\n",
    "\n",
    "for v in info.values():\n",
    "    print(v)"
   ]
  },
  {
   "cell_type": "code",
   "execution_count": 59,
   "metadata": {},
   "outputs": [
    {
     "name": "stdout",
     "output_type": "stream",
     "text": [
      "dic_keys : dict_values(['청월누리', '010-0000-0000', '230205', 'https://dev-lunamundus.tistory.com/']) / type : <class 'dict_values'>\n",
      "dic_keys : ['청월누리', '010-0000-0000', '230205', 'https://dev-lunamundus.tistory.com/'] / type : <class 'list'>\n"
     ]
    }
   ],
   "source": [
    "info = {\n",
    "    \"name\" : \"청월누리\",\n",
    "    \"phone\" : \"010-0000-0000\",\n",
    "    \"birth\" : \"230205\",\n",
    "    \"url\" : \"https://dev-lunamundus.tistory.com/\"\n",
    "}\n",
    "\n",
    "dic_values = info.values()\n",
    "print(f'dic_keys : {dic_values} / type : {type(dic_values)}')\n",
    "\n",
    "dic_values = list(info.values())\n",
    "print(f'dic_keys : {dic_values} / type : {type(dic_values)}')"
   ]
  },
  {
   "attachments": {},
   "cell_type": "markdown",
   "metadata": {},
   "source": [
    "### items()"
   ]
  },
  {
   "cell_type": "code",
   "execution_count": 29,
   "metadata": {},
   "outputs": [
    {
     "name": "stdout",
     "output_type": "stream",
     "text": [
      "dict_items([('name', '청월누리'), ('phone', '010-0000-0000'), ('birth', '230205'), ('url', 'https://dev-lunamundus.tistory.com/')])\n",
      "<class 'dict_items'>\n"
     ]
    }
   ],
   "source": [
    "info = {\n",
    "    \"name\" : \"청월누리\",\n",
    "    \"phone\" : \"010-0000-0000\",\n",
    "    \"birth\" : \"230205\",\n",
    "    \"url\" : \"https://dev-lunamundus.tistory.com/\"\n",
    "}\n",
    "\n",
    "print(info.items())\n",
    "print(type(info.items()))"
   ]
  },
  {
   "cell_type": "code",
   "execution_count": 33,
   "metadata": {},
   "outputs": [
    {
     "name": "stdout",
     "output_type": "stream",
     "text": [
      "key : name / value : 청월누리\n",
      "key : phone / value : 010-0000-0000\n",
      "key : birth / value : 230205\n",
      "key : url / value : https://dev-lunamundus.tistory.com/\n"
     ]
    }
   ],
   "source": [
    "info = {\n",
    "    \"name\" : \"청월누리\",\n",
    "    \"phone\" : \"010-0000-0000\",\n",
    "    \"birth\" : \"230205\",\n",
    "    \"url\" : \"https://dev-lunamundus.tistory.com/\"\n",
    "}\n",
    "\n",
    "for k, v in info.items():\n",
    "    print(f'key : {k} / value : {v}')"
   ]
  },
  {
   "cell_type": "code",
   "execution_count": 60,
   "metadata": {},
   "outputs": [
    {
     "name": "stdout",
     "output_type": "stream",
     "text": [
      "dic_keys : dict_items([('name', '청월누리'), ('phone', '010-0000-0000'), ('birth', '230205'), ('url', 'https://dev-lunamundus.tistory.com/')]) / type : <class 'dict_items'>\n",
      "dic_keys : [('name', '청월누리'), ('phone', '010-0000-0000'), ('birth', '230205'), ('url', 'https://dev-lunamundus.tistory.com/')] / type : <class 'list'>\n"
     ]
    }
   ],
   "source": [
    "info = {\n",
    "    \"name\" : \"청월누리\",\n",
    "    \"phone\" : \"010-0000-0000\",\n",
    "    \"birth\" : \"230205\",\n",
    "    \"url\" : \"https://dev-lunamundus.tistory.com/\"\n",
    "}\n",
    "\n",
    "dic_items = info.items()\n",
    "print(f'dic_keys : {dic_items} / type : {type(dic_items)}')\n",
    "\n",
    "dic_items = list(info.items())\n",
    "print(f'dic_keys : {dic_items} / type : {type(dic_items)}')"
   ]
  },
  {
   "attachments": {},
   "cell_type": "markdown",
   "metadata": {},
   "source": [
    "## key로 value 얻기 : get()"
   ]
  },
  {
   "cell_type": "code",
   "execution_count": 34,
   "metadata": {},
   "outputs": [
    {
     "name": "stdout",
     "output_type": "stream",
     "text": [
      "청월누리\n"
     ]
    }
   ],
   "source": [
    "info = {\n",
    "    \"name\" : \"청월누리\",\n",
    "    \"phone\" : \"010-0000-0000\",\n",
    "    \"birth\" : \"230205\",\n",
    "    \"url\" : \"https://dev-lunamundus.tistory.com/\"\n",
    "}\n",
    "\n",
    "print(info.get('name'))"
   ]
  },
  {
   "cell_type": "code",
   "execution_count": 35,
   "metadata": {},
   "outputs": [
    {
     "name": "stdout",
     "output_type": "stream",
     "text": [
      "청월누리\n"
     ]
    }
   ],
   "source": [
    "info = {\n",
    "    \"name\" : \"청월누리\",\n",
    "    \"phone\" : \"010-0000-0000\",\n",
    "    \"birth\" : \"230205\",\n",
    "    \"url\" : \"https://dev-lunamundus.tistory.com/\"\n",
    "}\n",
    "\n",
    "print(info['name'])"
   ]
  },
  {
   "cell_type": "code",
   "execution_count": 36,
   "metadata": {},
   "outputs": [
    {
     "name": "stdout",
     "output_type": "stream",
     "text": [
      "None\n"
     ]
    }
   ],
   "source": [
    "info = {\n",
    "    \"name\" : \"청월누리\",\n",
    "    \"phone\" : \"010-0000-0000\",\n",
    "    \"birth\" : \"230205\",\n",
    "    \"url\" : \"https://dev-lunamundus.tistory.com/\"\n",
    "}\n",
    "\n",
    "print(info.get('nothing'))"
   ]
  },
  {
   "cell_type": "code",
   "execution_count": 37,
   "metadata": {},
   "outputs": [
    {
     "ename": "KeyError",
     "evalue": "'nothing'",
     "output_type": "error",
     "traceback": [
      "\u001b[1;31m---------------------------------------------------------------------------\u001b[0m",
      "\u001b[1;31mKeyError\u001b[0m                                  Traceback (most recent call last)",
      "Cell \u001b[1;32mIn[37], line 8\u001b[0m\n\u001b[0;32m      1\u001b[0m info \u001b[39m=\u001b[39m {\n\u001b[0;32m      2\u001b[0m     \u001b[39m\"\u001b[39m\u001b[39mname\u001b[39m\u001b[39m\"\u001b[39m : \u001b[39m\"\u001b[39m\u001b[39m청월누리\u001b[39m\u001b[39m\"\u001b[39m,\n\u001b[0;32m      3\u001b[0m     \u001b[39m\"\u001b[39m\u001b[39mphone\u001b[39m\u001b[39m\"\u001b[39m : \u001b[39m\"\u001b[39m\u001b[39m010-0000-0000\u001b[39m\u001b[39m\"\u001b[39m,\n\u001b[0;32m      4\u001b[0m     \u001b[39m\"\u001b[39m\u001b[39mbirth\u001b[39m\u001b[39m\"\u001b[39m : \u001b[39m\"\u001b[39m\u001b[39m230205\u001b[39m\u001b[39m\"\u001b[39m,\n\u001b[0;32m      5\u001b[0m     \u001b[39m\"\u001b[39m\u001b[39murl\u001b[39m\u001b[39m\"\u001b[39m : \u001b[39m\"\u001b[39m\u001b[39mhttps://dev-lunamundus.tistory.com/\u001b[39m\u001b[39m\"\u001b[39m\n\u001b[0;32m      6\u001b[0m }\n\u001b[1;32m----> 8\u001b[0m \u001b[39mprint\u001b[39m(info[\u001b[39m'\u001b[39;49m\u001b[39mnothing\u001b[39;49m\u001b[39m'\u001b[39;49m])\n",
      "\u001b[1;31mKeyError\u001b[0m: 'nothing'"
     ]
    }
   ],
   "source": [
    "info = {\n",
    "    \"name\" : \"청월누리\",\n",
    "    \"phone\" : \"010-0000-0000\",\n",
    "    \"birth\" : \"230205\",\n",
    "    \"url\" : \"https://dev-lunamundus.tistory.com/\"\n",
    "}\n",
    "\n",
    "print(info['nothing'])"
   ]
  },
  {
   "attachments": {},
   "cell_type": "markdown",
   "metadata": {},
   "source": [
    "## key & value 지우기 : pop(), popitem(), clear()"
   ]
  },
  {
   "attachments": {},
   "cell_type": "markdown",
   "metadata": {},
   "source": [
    "### pop()"
   ]
  },
  {
   "cell_type": "code",
   "execution_count": 40,
   "metadata": {},
   "outputs": [
    {
     "name": "stdout",
     "output_type": "stream",
     "text": [
      "청월누리\n",
      "{'phone': '010-0000-0000', 'birth': '230205', 'url': 'https://dev-lunamundus.tistory.com/'}\n"
     ]
    }
   ],
   "source": [
    "info = {\n",
    "    \"name\" : \"청월누리\",\n",
    "    \"phone\" : \"010-0000-0000\",\n",
    "    \"birth\" : \"230205\",\n",
    "    \"url\" : \"https://dev-lunamundus.tistory.com/\"\n",
    "    \n",
    "}\n",
    "\n",
    "print(info.pop('name'))\n",
    "print(info)"
   ]
  },
  {
   "cell_type": "code",
   "execution_count": 45,
   "metadata": {},
   "outputs": [
    {
     "name": "stdout",
     "output_type": "stream",
     "text": [
      "청월누리\n"
     ]
    }
   ],
   "source": [
    "info = {\n",
    "    \"name\" : \"청월누리\",\n",
    "    \"phone\" : \"010-0000-0000\",\n",
    "    \"birth\" : \"230205\",\n",
    "    \"url\" : \"https://dev-lunamundus.tistory.com/\"\n",
    "}\n",
    "\n",
    "name = info.pop('name')\n",
    "print(name)"
   ]
  },
  {
   "attachments": {},
   "cell_type": "markdown",
   "metadata": {},
   "source": [
    "### popitem()"
   ]
  },
  {
   "cell_type": "code",
   "execution_count": 48,
   "metadata": {},
   "outputs": [
    {
     "name": "stdout",
     "output_type": "stream",
     "text": [
      "('url', 'https://dev-lunamundus.tistory.com/')\n",
      "{'name': '청월누리', 'phone': '010-0000-0000', 'birth': '230205'}\n"
     ]
    }
   ],
   "source": [
    "info = {\n",
    "    \"name\" : \"청월누리\",\n",
    "    \"phone\" : \"010-0000-0000\",\n",
    "    \"birth\" : \"230205\",\n",
    "    \"url\" : \"https://dev-lunamundus.tistory.com/\"\n",
    "}\n",
    "\n",
    "print(info.popitem())\n",
    "print(info)"
   ]
  },
  {
   "cell_type": "code",
   "execution_count": 1,
   "metadata": {},
   "outputs": [
    {
     "name": "stdout",
     "output_type": "stream",
     "text": [
      "<class 'tuple'>\n",
      "('url', 'https://dev-lunamundus.tistory.com/')\n"
     ]
    }
   ],
   "source": [
    "info = {\n",
    "    \"name\" : \"청월누리\",\n",
    "    \"phone\" : \"010-0000-0000\",\n",
    "    \"birth\" : \"230205\",\n",
    "    \"url\" : \"https://dev-lunamundus.tistory.com/\"\n",
    "}\n",
    "\n",
    "dict_last = info.popitem()\n",
    "print(type(dict_last))\n",
    "print(dict_last)"
   ]
  },
  {
   "cell_type": "code",
   "execution_count": 47,
   "metadata": {},
   "outputs": [
    {
     "ename": "TypeError",
     "evalue": "dict.popitem() takes no arguments (1 given)",
     "output_type": "error",
     "traceback": [
      "\u001b[1;31m---------------------------------------------------------------------------\u001b[0m",
      "\u001b[1;31mTypeError\u001b[0m                                 Traceback (most recent call last)",
      "Cell \u001b[1;32mIn[47], line 8\u001b[0m\n\u001b[0;32m      1\u001b[0m info \u001b[39m=\u001b[39m {\n\u001b[0;32m      2\u001b[0m     \u001b[39m\"\u001b[39m\u001b[39mname\u001b[39m\u001b[39m\"\u001b[39m : \u001b[39m\"\u001b[39m\u001b[39m청월누리\u001b[39m\u001b[39m\"\u001b[39m,\n\u001b[0;32m      3\u001b[0m     \u001b[39m\"\u001b[39m\u001b[39mphone\u001b[39m\u001b[39m\"\u001b[39m : \u001b[39m\"\u001b[39m\u001b[39m010-0000-0000\u001b[39m\u001b[39m\"\u001b[39m,\n\u001b[0;32m      4\u001b[0m     \u001b[39m\"\u001b[39m\u001b[39mbirth\u001b[39m\u001b[39m\"\u001b[39m : \u001b[39m\"\u001b[39m\u001b[39m230205\u001b[39m\u001b[39m\"\u001b[39m,\n\u001b[0;32m      5\u001b[0m     \u001b[39m\"\u001b[39m\u001b[39murl\u001b[39m\u001b[39m\"\u001b[39m : \u001b[39m\"\u001b[39m\u001b[39mhttps://dev-lunamundus.tistory.com/\u001b[39m\u001b[39m\"\u001b[39m\n\u001b[0;32m      6\u001b[0m }\n\u001b[1;32m----> 8\u001b[0m \u001b[39mprint\u001b[39m(info\u001b[39m.\u001b[39;49mpopitem(\u001b[39m'\u001b[39;49m\u001b[39mname\u001b[39;49m\u001b[39m'\u001b[39;49m))\n",
      "\u001b[1;31mTypeError\u001b[0m: dict.popitem() takes no arguments (1 given)"
     ]
    }
   ],
   "source": [
    "info = {\n",
    "    \"name\" : \"청월누리\",\n",
    "    \"phone\" : \"010-0000-0000\",\n",
    "    \"birth\" : \"230205\",\n",
    "    \"url\" : \"https://dev-lunamundus.tistory.com/\"\n",
    "}\n",
    "\n",
    "print(info.popitem('name'))"
   ]
  },
  {
   "attachments": {},
   "cell_type": "markdown",
   "metadata": {},
   "source": [
    "### clear()"
   ]
  },
  {
   "cell_type": "code",
   "execution_count": 50,
   "metadata": {},
   "outputs": [
    {
     "name": "stdout",
     "output_type": "stream",
     "text": [
      "{}\n"
     ]
    }
   ],
   "source": [
    "info = {\n",
    "    \"name\" : \"청월누리\",\n",
    "    \"phone\" : \"010-0000-0000\",\n",
    "    \"birth\" : \"230205\",\n",
    "    \"url\" : \"https://dev-lunamundus.tistory.com/\"\n",
    "}\n",
    "\n",
    "info.clear()\n",
    "print(info)"
   ]
  },
  {
   "attachments": {},
   "cell_type": "markdown",
   "metadata": {},
   "source": [
    "## 값 수정 및 추가하기 : setdefault(), update()"
   ]
  },
  {
   "attachments": {},
   "cell_type": "markdown",
   "metadata": {},
   "source": [
    "### setdefault()"
   ]
  },
  {
   "cell_type": "code",
   "execution_count": 52,
   "metadata": {},
   "outputs": [
    {
     "name": "stdout",
     "output_type": "stream",
     "text": [
      "{'name': '청월누리', 'phone': '010-0000-0000', 'birth': '230205', 'url': 'https://dev-lunamundus.tistory.com/'}\n"
     ]
    }
   ],
   "source": [
    "info = {\n",
    "    \"name\" : \"청월누리\",\n",
    "    \"phone\" : \"010-0000-0000\",\n",
    "    \"birth\" : \"230205\",\n",
    "    \"url\" : \"https://dev-lunamundus.tistory.com/\"\n",
    "}\n",
    "\n",
    "info.setdefault('phone', '010-9999-9999') # key가 있는 경우, 아무런 변화 없음\n",
    "\n",
    "print(info)"
   ]
  },
  {
   "cell_type": "code",
   "execution_count": 53,
   "metadata": {},
   "outputs": [
    {
     "name": "stdout",
     "output_type": "stream",
     "text": [
      "{'name': '청월누리', 'phone': '010-0000-0000', 'birth': '230205', 'url': 'https://dev-lunamundus.tistory.com/', 'email': 'dev-lunamundus@example.com'}\n"
     ]
    }
   ],
   "source": [
    "info = {\n",
    "    \"name\" : \"청월누리\",\n",
    "    \"phone\" : \"010-0000-0000\",\n",
    "    \"birth\" : \"230205\",\n",
    "    \"url\" : \"https://dev-lunamundus.tistory.com/\"\n",
    "}\n",
    "\n",
    "info.setdefault('email', 'dev-lunamundus@example.com') # key가 없는 경우 새로운 key-value 쌍이 추가됨\n",
    "\n",
    "print(info)"
   ]
  },
  {
   "attachments": {},
   "cell_type": "markdown",
   "metadata": {},
   "source": [
    "### update()"
   ]
  },
  {
   "cell_type": "code",
   "execution_count": 54,
   "metadata": {},
   "outputs": [
    {
     "name": "stdout",
     "output_type": "stream",
     "text": [
      "{'name': '청월누리', 'phone': '010-9999-9999', 'birth': '230205', 'url': 'https://dev-lunamundus.tistory.com/'}\n"
     ]
    }
   ],
   "source": [
    "info = {\n",
    "    \"name\" : \"청월누리\",\n",
    "    \"phone\" : \"010-0000-0000\",\n",
    "    \"birth\" : \"230205\",\n",
    "    \"url\" : \"https://dev-lunamundus.tistory.com/\"\n",
    "}\n",
    "\n",
    "info.update({\"phone\" : \"010-9999-9999\"})\n",
    "\n",
    "print(info)"
   ]
  },
  {
   "cell_type": "code",
   "execution_count": 55,
   "metadata": {},
   "outputs": [
    {
     "name": "stdout",
     "output_type": "stream",
     "text": [
      "{'name': '청월누리', 'phone': '010-0000-0000', 'birth': '230205', 'url': 'https://dev-lunamundus.tistory.com/', 'email': 'dev-lunamundus@example.com'}\n"
     ]
    }
   ],
   "source": [
    "info = {\n",
    "    \"name\" : \"청월누리\",\n",
    "    \"phone\" : \"010-0000-0000\",\n",
    "    \"birth\" : \"230205\",\n",
    "    \"url\" : \"https://dev-lunamundus.tistory.com/\"\n",
    "}\n",
    "\n",
    "info.update({\"email\" : \"dev-lunamundus@example.com\"})\n",
    "\n",
    "print(info)"
   ]
  }
 ],
 "metadata": {
  "kernelspec": {
   "display_name": "basic",
   "language": "python",
   "name": "python3"
  },
  "language_info": {
   "codemirror_mode": {
    "name": "ipython",
    "version": 3
   },
   "file_extension": ".py",
   "mimetype": "text/x-python",
   "name": "python",
   "nbconvert_exporter": "python",
   "pygments_lexer": "ipython3",
   "version": "3.10.9"
  },
  "orig_nbformat": 4,
  "vscode": {
   "interpreter": {
    "hash": "514b9fec8eeb9f3740e56821ec95ba3e0b4a82e7ba5d7ff1f00d9bcaf7b9615a"
   }
  }
 },
 "nbformat": 4,
 "nbformat_minor": 2
}
