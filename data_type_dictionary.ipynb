{
 "cells": [
  {
   "attachments": {},
   "cell_type": "markdown",
   "metadata": {},
   "source": [
    "# Dictionary"
   ]
  },
  {
   "attachments": {},
   "cell_type": "markdown",
   "metadata": {},
   "source": [
    "대응 관계를 나타낼 수 있는 자료형 => 연관배열(Associative Array) or 해시(Hash)  \n",
    "파이썬에서 대응 관계를 나타낼 수 있는 자료형 => 딕셔너리(Dictionary)  "
   ]
  },
  {
   "attachments": {},
   "cell_type": "markdown",
   "metadata": {},
   "source": [
    "딕셔너리는 Key-Value가 한 쌍으로 이루어진 자료형  \n",
    "리스트와 튜플이 순차적(Sequential)으로 요소 값을 요구하는 것과 달리, 딕셔너리에서는 Key를 통해 Value를 얻는다."
   ]
  },
  {
   "attachments": {},
   "cell_type": "markdown",
   "metadata": {},
   "source": [
    "## 딕셔너리 선언하기"
   ]
  },
  {
   "cell_type": "code",
   "execution_count": null,
   "metadata": {},
   "outputs": [],
   "source": [
    "# 딕셔너리의 기본 형태\n",
    "{Key1:Value1, Key2:Value2, Key3:Value3, ...}"
   ]
  },
  {
   "cell_type": "code",
   "execution_count": null,
   "metadata": {},
   "outputs": [],
   "source": [
    "\n"
   ]
  }
 ],
 "metadata": {
  "kernelspec": {
   "display_name": "basic",
   "language": "python",
   "name": "python3"
  },
  "language_info": {
   "name": "python",
   "version": "3.10.9 | packaged by conda-forge | (main, Jan 11 2023, 15:15:40) [MSC v.1916 64 bit (AMD64)]"
  },
  "orig_nbformat": 4,
  "vscode": {
   "interpreter": {
    "hash": "514b9fec8eeb9f3740e56821ec95ba3e0b4a82e7ba5d7ff1f00d9bcaf7b9615a"
   }
  }
 },
 "nbformat": 4,
 "nbformat_minor": 2
}
